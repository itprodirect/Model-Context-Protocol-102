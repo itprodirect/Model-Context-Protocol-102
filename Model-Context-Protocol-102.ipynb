{
 "cells": [
  {
   "cell_type": "markdown",
   "id": "2761b7e8-1569-4e37-b1f7-1f1ae70b283c",
   "metadata": {},
   "source": [
    "# 📘 Model Context Protocol 102 - Jupyter Notebook Tutorial\n",
    "\n",
    "## 🛠️ Introduction\n",
    "Welcome to **Model Context Protocol 102**! 🎯 This tutorial will guide you step-by-step in setting up and making API requests to MCP using Python inside a Jupyter Notebook.\n",
    "\n",
    "By the end of this tutorial, you'll be able to:\n",
    "- Understand how to interact with MCP APIs.\n",
    "- Send GET requests and process responses.\n",
    "- Handle errors and improve API interactions."
   ]
  },
  {
   "cell_type": "markdown",
   "id": "9bc6e6d4-4671-4ece-a1f6-c7c4096a11f3",
   "metadata": {},
   "source": [
    "---\n",
    "\n",
    "## 📌 Prerequisites\n",
    "Before starting, make sure you have:\n",
    "✅ Python 3.x installed  \n",
    "✅ `venv` activated  \n",
    "✅ Required dependencies installed (`pip install -r requirements.txt`)  \n",
    "✅ Jupyter Notebook running (`jupyter notebook`)\n"
   ]
  },
  {
   "cell_type": "markdown",
   "id": "17cb4459-6d7e-436c-88c5-6e06c614dfde",
   "metadata": {
    "jp-MarkdownHeadingCollapsed": true
   },
   "source": [
    "---\n",
    "## 📂 Notebook Structure\n",
    "This tutorial follows a structured approach:\n",
    "\n",
    "1️⃣ **Setup Environment** – Install required libraries and configure the API.  \n",
    "2️⃣ **Make an API Request** – Perform a GET request to MCP and process the response.  \n",
    "3️⃣ **Handle Errors & Debugging** – Learn best practices for handling API errors.  \n",
    "4️⃣ **Next Steps** – Ideas for extending the tutorial."
   ]
  },
  {
   "cell_type": "markdown",
   "id": "f8bfa7ee-e551-480b-af6b-8ef188cd28d0",
   "metadata": {},
   "source": [
    "## 1️⃣ Setup: Install & Import Dependencies\n",
    "Before we start making API requests, let's ensure all required libraries are installed and imported.\n",
    "\n",
    "```python\n",
    "# Install required packages (if not installed)\n",
    "!pip install requests\n",
    "```\n",
    "\n",
    "```python\n",
    "# Import necessary libraries\n",
    "import requests\n",
    "import json\n",
    "```\n",
    "\n"
   ]
  },
  {
   "cell_type": "markdown",
   "id": "b16cf3db-fdcc-4c90-9075-94ff33e4f8c7",
   "metadata": {},
   "source": [
    "\n",
    "---\n",
    "\n",
    "## 2️⃣ Making an API Request\n",
    "Now, let's make a simple **GET request** to MCP. Replace `<YOUR_API_KEY>` with your actual API key.\n",
    "\n",
    "```python\n",
    "# Define API endpoint and headers\n",
    "API_URL = \"https://api.mcp.example.com/data\"\n",
    "HEADERS = {\n",
    "    \"Authorization\": \"Bearer <YOUR_API_KEY>\",\n",
    "    \"Content-Type\": \"application/json\"\n",
    "}\n",
    "\n",
    "# Make GET request\n",
    "try:\n",
    "    response = requests.get(API_URL, headers=HEADERS)\n",
    "    response.raise_for_status()  # Raise error for bad status codes\n",
    "    data = response.json()\n",
    "    print(\"✅ Success! Data received:\")\n",
    "    print(json.dumps(data, indent=2))\n",
    "except requests.exceptions.RequestException as e:\n",
    "    print(f\"❌ API Request failed: {e}\")\n",
    "```\n",
    "\n",
    "---\n",
    "\n",
    "## 3️⃣ Handling Errors & Debugging\n",
    "It's important to handle errors gracefully. Let's add **error handling** and **logging**.\n",
    "\n",
    "```python\n",
    "def fetch_mcp_data():\n",
    "    try:\n",
    "        response = requests.get(API_URL, headers=HEADERS)\n",
    "        response.raise_for_status()\n",
    "        return response.json()\n",
    "    except requests.exceptions.HTTPError as http_err:\n",
    "        print(f\"🔴 HTTP error occurred: {http_err}\")\n",
    "    except requests.exceptions.ConnectionError:\n",
    "        print(\"🔴 Connection error. Check your internet connection.\")\n",
    "    except requests.exceptions.Timeout:\n",
    "        print(\"🔴 Request timed out. Try again later.\")\n",
    "    except Exception as err:\n",
    "        print(f\"🔴 Other error occurred: {err}\")\n",
    "    return None\n",
    "\n",
    "# Run function\n",
    "data = fetch_mcp_data()\n",
    "if data:\n",
    "    print(\"✅ Data successfully retrieved!\")\n",
    "```\n",
    "\n",
    "---\n",
    "\n",
    "## 4️⃣ Next Steps\n",
    "Congratulations! 🎉 You've successfully:\n",
    "- Made API requests to MCP.\n",
    "- Processed JSON responses.\n",
    "- Implemented error handling.\n",
    "\n",
    "### 🔥 Explore More\n",
    "✅ Modify the request to send **POST data**.  \n",
    "✅ Implement **pagination** if API responses are large.  \n",
    "✅ Use **environment variables** to store API keys securely.\n",
    "\n",
    "---\n",
    "\n",
    "## 📝 Summary\n",
    "You've now built a **basic but functional** API request flow using Python and Jupyter Notebook. Keep experimenting and exploring!\n",
    "\n",
    "Happy coding! 🚀\n"
   ]
  },
  {
   "cell_type": "code",
   "execution_count": null,
   "id": "f358cbaf-47f1-4ea9-909d-328bb90724a9",
   "metadata": {},
   "outputs": [],
   "source": []
  },
  {
   "cell_type": "code",
   "execution_count": null,
   "id": "7e99649d-8dca-4d92-8c10-a84d480f21d3",
   "metadata": {},
   "outputs": [],
   "source": [
    "\n",
    "\n"
   ]
  }
 ],
 "metadata": {
  "kernelspec": {
   "display_name": "Python 3 (ipykernel)",
   "language": "python",
   "name": "python3"
  },
  "language_info": {
   "codemirror_mode": {
    "name": "ipython",
    "version": 3
   },
   "file_extension": ".py",
   "mimetype": "text/x-python",
   "name": "python",
   "nbconvert_exporter": "python",
   "pygments_lexer": "ipython3",
   "version": "3.9.19"
  }
 },
 "nbformat": 4,
 "nbformat_minor": 5
}
